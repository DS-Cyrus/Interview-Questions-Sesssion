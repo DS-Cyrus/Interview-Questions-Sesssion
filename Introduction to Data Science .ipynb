{
 "cells": [
  {
   "cell_type": "markdown",
   "metadata": {},
   "source": [
    "## **Data Science.**\n",
    "\n",
    "Data science is the domain of study that deals with vast volumes of data using modern tools and techniques to find unseen patterns, derive meaningful information, and make business decisions.\n",
    "\n",
    "Data science uses complex machine learning algorithms to build predictive models."
   ]
  },
  {
   "cell_type": "markdown",
   "metadata": {},
   "source": [
    "**Here are some of the technical concepts you should know  in data science.**\n",
    "\n",
    "**1. Machine Learning**\n",
    "Machine learning is the backbone of data science. Data Scientists need to have a solid grasp on ML in addition to basic knowledge of statistics. \n",
    "\n",
    "**2. Modeling**\n",
    "Mathematical models enable you to make quick calculations and predictions based on what you already know about the data. Modeling is also a part of ML and involves identifying which algorithm is the most suitable to solve a given problem and how to train these models.\n",
    "\n",
    "**3. Statistics**\n",
    "Statistics are at the core of data science. A sturdy handle on statistics can help you extract more intelligence and obtain more meaningful results.\n",
    "\n",
    "**4. Programming**\n",
    "Some level of programming is required to execute a successful data science project. The most common programming languages are Python, and R. Python is especially popular because it’s easy to learn, and it supports multiple libraries for data science and ML.\n",
    "\n",
    "**5. Databases**\n",
    "A capable data scientist, you need to understand how databases work, how to manage them, and how to extract data from them."
   ]
  },
  {
   "cell_type": "markdown",
   "metadata": {},
   "source": [
    "**A data scientist analyzes business data to extract meaningful insights. In other words, a data scientist solves business problems through a series of steps, including:**\n",
    "\n",
    "- Ask the right questions to understand the problem\n",
    "- Gather data from multiple sources—enterprise data, public data, etc\n",
    "- Process raw data and convert it into a format suitable for analysis\n",
    "- Feed the data into the analytic system—ML algorithm or a statistical model\n",
    "- Prepare the results and insights to share with the appropriate stakeholders"
   ]
  },
  {
   "cell_type": "markdown",
   "metadata": {},
   "source": [
    "**The most basic and essential ML algorithms a data scientist use include:**\n",
    "\n",
    "**1. Regression**\n",
    "Regression is an ML algorithm based on supervised learning techniques. The output of regression is a real or continuous value. For example, predicting the temperature of a room.\n",
    "\n",
    "**2. Clustering**\n",
    "Clustering is an ML algorithm based on unsupervised learning techniques. It works on a set of unlabeled data points and groups each data point into a cluster.\n",
    "\n",
    "**3. Decision Tree**\n",
    "A decision tree refers to a supervised learning method used primarily for classification. The algorithm classifies the various inputs according to a specific parameter. The most significant advantage of a decision tree is that it is easy to understand, and it clearly shows the reason for its classification.\n",
    "\n",
    "**4. Support Vector Machines**\n",
    "Support vector machines (SVMs) is also a supervised learning method used primarily for classification. SVMs can perform both linear and non-linear classifications.\n",
    "\n",
    "**5. Naive Bayes**\n",
    "Naive Bayes is a statistical probability-based classification method best used for binary and multi-class classification problems."
   ]
  },
  {
   "cell_type": "code",
   "execution_count": null,
   "metadata": {},
   "outputs": [],
   "source": []
  }
 ],
 "metadata": {
  "kernelspec": {
   "display_name": "Python 3",
   "language": "python",
   "name": "python3"
  },
  "language_info": {
   "codemirror_mode": {
    "name": "ipython",
    "version": 3
   },
   "file_extension": ".py",
   "mimetype": "text/x-python",
   "name": "python",
   "nbconvert_exporter": "python",
   "pygments_lexer": "ipython3",
   "version": "3.7.3"
  }
 },
 "nbformat": 4,
 "nbformat_minor": 2
}
